{
 "cells": [
  {
   "cell_type": "code",
   "execution_count": 2,
   "metadata": {},
   "outputs": [],
   "source": [
    "import numpy\n",
    "from keras.datasets import mnist\n",
    "from keras.models import Sequential\n",
    "from keras.layers import Dense\n",
    "from keras.layers import Dropout\n",
    "from keras.utils import np_utils"
   ]
  },
  {
   "cell_type": "code",
   "execution_count": 22,
   "metadata": {
    "collapsed": true
   },
   "outputs": [],
   "source": [
    "seed = 7\n",
    "numpy.random.seed(seed)"
   ]
  },
  {
   "cell_type": "code",
   "execution_count": 23,
   "metadata": {},
   "outputs": [],
   "source": [
    "(X_train, Y_train), (X_test, Y_test) = mnist.load_data()\n",
    "\n",
    "num_pixels = X_train.shape[1] * X_train.shape[2]\n",
    "X_train = X_train.reshape(X_train.shape[0], num_pixels).astype('float32')\n",
    "X_test = X_test.reshape(X_test.shape[0], num_pixels).astype('float32')"
   ]
  },
  {
   "cell_type": "code",
   "execution_count": 24,
   "metadata": {},
   "outputs": [],
   "source": [
    "X_train = X_train / 255\n",
    "X_test = X_test / 255\n",
    "\n",
    "Y_train = np_utils.to_categorical(Y_train)\n",
    "Y_test = np_utils.to_categorical(Y_test)\n",
    "num_classes = Y_test.shape[1]"
   ]
  },
  {
   "cell_type": "code",
   "execution_count": 25,
   "metadata": {
    "collapsed": true
   },
   "outputs": [],
   "source": [
    "def baseline_model():\n",
    "    model = Sequential()\n",
    "    model.add(Dense(num_pixels, input_dim=num_pixels, kernel_initializer='normal', activation='relu'))\n",
    "    model.add(Dense(num_classes, kernel_initializer='normal', activation='softmax'))\n",
    "    \n",
    "    model.compile(loss='categorical_crossentropy', optimizer='adam', metrics=['accuracy'])\n",
    "    return model"
   ]
  },
  {
   "cell_type": "code",
   "execution_count": 26,
   "metadata": {},
   "outputs": [
    {
     "name": "stdout",
     "output_type": "stream",
     "text": [
      "Train on 60000 samples, validate on 10000 samples\n",
      "Epoch 1/10\n",
      " - 14s - loss: 0.2780 - acc: 0.9211 - val_loss: 0.1412 - val_acc: 0.9572\n",
      "Epoch 2/10\n",
      " - 13s - loss: 0.1115 - acc: 0.9675 - val_loss: 0.0930 - val_acc: 0.9707\n",
      "Epoch 3/10\n",
      " - 13s - loss: 0.0718 - acc: 0.9795 - val_loss: 0.0792 - val_acc: 0.9770\n",
      "Epoch 4/10\n",
      " - 13s - loss: 0.0506 - acc: 0.9857 - val_loss: 0.0750 - val_acc: 0.9769\n",
      "Epoch 5/10\n",
      " - 13s - loss: 0.0373 - acc: 0.9894 - val_loss: 0.0683 - val_acc: 0.9786\n",
      "Epoch 6/10\n",
      " - 13s - loss: 0.0270 - acc: 0.9929 - val_loss: 0.0638 - val_acc: 0.9802\n",
      "Epoch 7/10\n",
      " - 13s - loss: 0.0214 - acc: 0.9945 - val_loss: 0.0630 - val_acc: 0.9811\n",
      "Epoch 8/10\n",
      " - 13s - loss: 0.0143 - acc: 0.9969 - val_loss: 0.0625 - val_acc: 0.9802\n",
      "Epoch 9/10\n",
      " - 14s - loss: 0.0111 - acc: 0.9976 - val_loss: 0.0596 - val_acc: 0.9810\n",
      "Epoch 10/10\n",
      " - 14s - loss: 0.0080 - acc: 0.9985 - val_loss: 0.0565 - val_acc: 0.9820\n",
      "Baseline Error: 1.80%\n"
     ]
    }
   ],
   "source": [
    "model = baseline_model()\n",
    "model.fit(X_train, Y_train, validation_data=(X_test, Y_test), epochs=10, batch_size=200, verbose=2)\n",
    "\n",
    "scores = model.evaluate(X_test, Y_test, verbose=0)\n",
    "print(\"Baseline Error: %.2f%%\" % (100-scores[1]*100))"
   ]
  },
  {
   "cell_type": "code",
   "execution_count": null,
   "metadata": {
    "collapsed": true
   },
   "outputs": [],
   "source": []
  }
 ],
 "metadata": {
  "kernelspec": {
   "display_name": "Python 3",
   "language": "python",
   "name": "python3"
  },
  "language_info": {
   "codemirror_mode": {
    "name": "ipython",
    "version": 3
   },
   "file_extension": ".py",
   "mimetype": "text/x-python",
   "name": "python",
   "nbconvert_exporter": "python",
   "pygments_lexer": "ipython3",
   "version": "3.6.3"
  }
 },
 "nbformat": 4,
 "nbformat_minor": 2
}
